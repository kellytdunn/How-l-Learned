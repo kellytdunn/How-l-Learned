{
  "nbformat": 4,
  "nbformat_minor": 0,
  "metadata": {
    "colab": {
      "name": "How I Learned Python.ipynb",
      "provenance": [],
      "authorship_tag": "ABX9TyPgnQxzhgIdBbaG00oL9h3o",
      "include_colab_link": true
    },
    "kernelspec": {
      "name": "python3",
      "display_name": "Python 3"
    },
    "language_info": {
      "name": "python"
    }
  },
  "cells": [
    {
      "cell_type": "markdown",
      "metadata": {
        "id": "view-in-github",
        "colab_type": "text"
      },
      "source": [
        "<a href=\"https://colab.research.google.com/github/kellytdunn/How-l-Learned/blob/main/How_I_Learned_Python.ipynb\" target=\"_parent\"><img src=\"https://colab.research.google.com/assets/colab-badge.svg\" alt=\"Open In Colab\"/></a>"
      ]
    },
    {
      "cell_type": "code",
      "metadata": {
        "id": "J8C0sWN3n6Z7"
      },
      "source": [
        "import pandas as pd\n",
        "import numpy as np\n",
        "import matplotlib.pyplot as plt\n",
        "%matplotlib inline "
      ],
      "execution_count": null,
      "outputs": []
    },
    {
      "cell_type": "code",
      "metadata": {
        "id": "ZaAi21rZnuj_"
      },
      "source": [
        "expected=[['Writing code and feeling like a badass','.6'],['Thinking through the best way \\n to solve a problem','.4']]"
      ],
      "execution_count": null,
      "outputs": []
    },
    {
      "cell_type": "code",
      "metadata": {
        "colab": {
          "base_uri": "https://localhost:8080/",
          "height": 107
        },
        "id": "hrA7zRz9nwz8",
        "outputId": "c1003865-62b3-4dec-e911-bbfe56638eb2"
      },
      "source": [
        "df1 = pd.DataFrame(expected, columns = ['Activity', 'Percentage of time'])\n",
        "df1"
      ],
      "execution_count": null,
      "outputs": [
        {
          "output_type": "execute_result",
          "data": {
            "text/html": [
              "<div>\n",
              "<style scoped>\n",
              "    .dataframe tbody tr th:only-of-type {\n",
              "        vertical-align: middle;\n",
              "    }\n",
              "\n",
              "    .dataframe tbody tr th {\n",
              "        vertical-align: top;\n",
              "    }\n",
              "\n",
              "    .dataframe thead th {\n",
              "        text-align: right;\n",
              "    }\n",
              "</style>\n",
              "<table border=\"1\" class=\"dataframe\">\n",
              "  <thead>\n",
              "    <tr style=\"text-align: right;\">\n",
              "      <th></th>\n",
              "      <th>Activity</th>\n",
              "      <th>Percentage of time</th>\n",
              "    </tr>\n",
              "  </thead>\n",
              "  <tbody>\n",
              "    <tr>\n",
              "      <th>0</th>\n",
              "      <td>Writing code and feeling like a badass</td>\n",
              "      <td>.6</td>\n",
              "    </tr>\n",
              "    <tr>\n",
              "      <th>1</th>\n",
              "      <td>Thinking through the best way \\n to solve a pr...</td>\n",
              "      <td>.4</td>\n",
              "    </tr>\n",
              "  </tbody>\n",
              "</table>\n",
              "</div>"
            ],
            "text/plain": [
              "                                            Activity Percentage of time\n",
              "0             Writing code and feeling like a badass                 .6\n",
              "1  Thinking through the best way \\n to solve a pr...                 .4"
            ]
          },
          "metadata": {
            "tags": []
          },
          "execution_count": 16
        }
      ]
    },
    {
      "cell_type": "code",
      "metadata": {
        "id": "62F3nSXMvRm5"
      },
      "source": [
        "actual=[[('writing code ')+'\\u0336'.join('and feeling like a badass') + '\\u0336','.25'],['Thinking through the best way \\n to solve a problem','.15'],['Googling error messages','.3'],['Waiting for things to run before \\n realizing something must be wrong','.3']]"
      ],
      "execution_count": null,
      "outputs": []
    },
    {
      "cell_type": "code",
      "metadata": {
        "colab": {
          "base_uri": "https://localhost:8080/",
          "height": 166
        },
        "id": "32RlAvjjoSxJ",
        "outputId": "995d8dfb-d01b-4c07-c927-6fb15371b71c"
      },
      "source": [
        "df2 = pd.DataFrame(actual, columns = ['Activity', 'Percentage of time'])\n",
        "df2"
      ],
      "execution_count": null,
      "outputs": [
        {
          "output_type": "execute_result",
          "data": {
            "text/html": [
              "<div>\n",
              "<style scoped>\n",
              "    .dataframe tbody tr th:only-of-type {\n",
              "        vertical-align: middle;\n",
              "    }\n",
              "\n",
              "    .dataframe tbody tr th {\n",
              "        vertical-align: top;\n",
              "    }\n",
              "\n",
              "    .dataframe thead th {\n",
              "        text-align: right;\n",
              "    }\n",
              "</style>\n",
              "<table border=\"1\" class=\"dataframe\">\n",
              "  <thead>\n",
              "    <tr style=\"text-align: right;\">\n",
              "      <th></th>\n",
              "      <th>Activity</th>\n",
              "      <th>Percentage of time</th>\n",
              "    </tr>\n",
              "  </thead>\n",
              "  <tbody>\n",
              "    <tr>\n",
              "      <th>0</th>\n",
              "      <td>writing code a̶n̶d̶ ̶f̶e̶e̶l̶i̶n̶g̶ ̶l̶i̶k̶e̶ ...</td>\n",
              "      <td>.25</td>\n",
              "    </tr>\n",
              "    <tr>\n",
              "      <th>1</th>\n",
              "      <td>Thinking through the best way \\n to solve a pr...</td>\n",
              "      <td>.15</td>\n",
              "    </tr>\n",
              "    <tr>\n",
              "      <th>2</th>\n",
              "      <td>Googling error messages</td>\n",
              "      <td>.3</td>\n",
              "    </tr>\n",
              "    <tr>\n",
              "      <th>3</th>\n",
              "      <td>Waiting for things to run before \\n realizing ...</td>\n",
              "      <td>.3</td>\n",
              "    </tr>\n",
              "  </tbody>\n",
              "</table>\n",
              "</div>"
            ],
            "text/plain": [
              "                                            Activity Percentage of time\n",
              "0  writing code a̶n̶d̶ ̶f̶e̶e̶l̶i̶n̶g̶ ̶l̶i̶k̶e̶ ...                .25\n",
              "1  Thinking through the best way \\n to solve a pr...                .15\n",
              "2                            Googling error messages                 .3\n",
              "3  Waiting for things to run before \\n realizing ...                 .3"
            ]
          },
          "metadata": {
            "tags": []
          },
          "execution_count": 23
        }
      ]
    },
    {
      "cell_type": "code",
      "metadata": {
        "colab": {
          "base_uri": "https://localhost:8080/",
          "height": 585
        },
        "id": "Pn8cFpXLtd8p",
        "outputId": "2434f0de-e360-41f4-d41b-249545c20500"
      },
      "source": [
        "fig, (ax1) = plt.subplots()\n",
        "fig2, (ax2) = plt.subplots()\n",
        "X1=df1['Activity']\n",
        "Y1=df1['Percentage of time']\n",
        "X2=df2['Activity']\n",
        "Y2=df2['Percentage of time']\n",
        "ax1.pie(Y1,labels=X1,startangle=90,counterclock=False)\n",
        "ax2.pie(Y2,labels=X2,startangle=90,counterclock=False)\n",
        "\n",
        "\n",
        "ax1.set_title('\\n \\n \\n How I thought I would spend my time learning Python', fontsize=16)\n",
        "ax2.set_title('How I actually spent my time', fontsize=16)\n"
      ],
      "execution_count": null,
      "outputs": [
        {
          "output_type": "execute_result",
          "data": {
            "text/plain": [
              "Text(0.5, 1.0, 'How I actually spent my time')"
            ]
          },
          "metadata": {
            "tags": []
          },
          "execution_count": 25
        },
        {
          "output_type": "display_data",
          "data": {
            "image/png": "[encoded data removed]",
            "text/plain": [
              "<Figure size 432x288 with 1 Axes>"
            ]
          },
          "metadata": {
            "tags": []
          }
        },
        {
          "output_type": "display_data",
          "data": {
            "image/png": "[encoded data removed]",
            "text/plain": [
              "<Figure size 432x288 with 1 Axes>"
            ]
          },
          "metadata": {
            "tags": []
          }
        }
      ]
    }
  ]
}